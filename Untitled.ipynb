{
 "cells": [
  {
   "cell_type": "markdown",
   "id": "32d2bd82",
   "metadata": {},
   "source": [
    "1.\tWrite a Python program to find those numbers which are divisible by 7 and multiple of 5, between 1500 and 2700 (both included)."
   ]
  },
  {
   "cell_type": "code",
   "execution_count": 24,
   "id": "8730bb59",
   "metadata": {},
   "outputs": [],
   "source": [
    "n=[]\n",
    "for i in range(1500,2701):\n",
    "    if i%7==0 and i%5==0:\n",
    "        n.append(i)"
   ]
  },
  {
   "cell_type": "code",
   "execution_count": 25,
   "id": "bb664840",
   "metadata": {},
   "outputs": [
    {
     "name": "stdout",
     "output_type": "stream",
     "text": [
      "[1505, 1540, 1575, 1610, 1645, 1680, 1715, 1750, 1785, 1820, 1855, 1890, 1925, 1960, 1995, 2030, 2065, 2100, 2135, 2170, 2205, 2240, 2275, 2310, 2345, 2380, 2415, 2450, 2485, 2520, 2555, 2590, 2625, 2660, 2695]\n"
     ]
    }
   ],
   "source": [
    "print(n)"
   ]
  },
  {
   "cell_type": "markdown",
   "id": "a318ce99",
   "metadata": {},
   "source": [
    "2.\tPython program to add two numbers"
   ]
  },
  {
   "cell_type": "code",
   "execution_count": 22,
   "id": "c1454ab4",
   "metadata": {},
   "outputs": [
    {
     "name": "stdout",
     "output_type": "stream",
     "text": [
      "Enter first number3\n",
      "Enter second number4\n",
      "Sum of two numbers are,  7\n"
     ]
    }
   ],
   "source": [
    "a =int(input(\"Enter first number\"))\n",
    "b= int(input('Enter second number'))\n",
    "sum= a+b\n",
    "print('Sum of two numbers are, ', sum)"
   ]
  },
  {
   "cell_type": "markdown",
   "id": "8398b487",
   "metadata": {},
   "source": [
    "3.\tMaximum of two numbers in Python"
   ]
  },
  {
   "cell_type": "code",
   "execution_count": 23,
   "id": "f465504f",
   "metadata": {},
   "outputs": [
    {
     "name": "stdout",
     "output_type": "stream",
     "text": [
      "Enter 1st number 23\n",
      "Enter 2nd number 11\n",
      "A is max\n"
     ]
    }
   ],
   "source": [
    "a = int(input(\"Enter 1st number \"))\n",
    "b = int(input(\"Enter 2nd number \"))\n",
    "if a>b:\n",
    "    print(\"A is max\")\n",
    "else:\n",
    "    print('B is max')"
   ]
  },
  {
   "cell_type": "markdown",
   "id": "24340d63",
   "metadata": {},
   "source": [
    "4.\tPython Program for factorial of a number"
   ]
  },
  {
   "cell_type": "code",
   "execution_count": 26,
   "id": "22ff47c3",
   "metadata": {},
   "outputs": [],
   "source": [
    "def factorial(n):\n",
    "    if n==0:\n",
    "        return 1\n",
    "    else:\n",
    "        return n* factorial(n-1)\n",
    "    "
   ]
  },
  {
   "cell_type": "code",
   "execution_count": 27,
   "id": "370bc994",
   "metadata": {},
   "outputs": [
    {
     "data": {
      "text/plain": [
       "24"
      ]
     },
     "execution_count": 27,
     "metadata": {},
     "output_type": "execute_result"
    }
   ],
   "source": [
    "factorial(4)"
   ]
  },
  {
   "cell_type": "markdown",
   "id": "56fb8227",
   "metadata": {},
   "source": [
    "5.\tPython Program for simple interest"
   ]
  },
  {
   "cell_type": "code",
   "execution_count": 31,
   "id": "908806f0",
   "metadata": {},
   "outputs": [],
   "source": [
    "def si(p,r,t):\n",
    "    si = (p*r*t)/100\n",
    "    return si"
   ]
  },
  {
   "cell_type": "code",
   "execution_count": 32,
   "id": "065c756b",
   "metadata": {},
   "outputs": [
    {
     "data": {
      "text/plain": [
       "180.0"
      ]
     },
     "execution_count": 32,
     "metadata": {},
     "output_type": "execute_result"
    }
   ],
   "source": [
    "si(1000,6,3)"
   ]
  },
  {
   "cell_type": "markdown",
   "id": "547d8c69",
   "metadata": {},
   "source": [
    "6.\tPython Program for compound interest"
   ]
  },
  {
   "cell_type": "code",
   "execution_count": 38,
   "id": "f8d0b9e8",
   "metadata": {},
   "outputs": [],
   "source": [
    "def ci(p,t,r):\n",
    "    print(\"The amount entered is \",p)\n",
    "    print(\"The time entered is \",t)\n",
    "    print(\"The rate entered is \",r)\n",
    "    \n",
    "    amt= p*(pow((1 + r/100),t))\n",
    "    print(amt)\n",
    "    ci = amt-p\n",
    "    return ci"
   ]
  },
  {
   "cell_type": "code",
   "execution_count": 39,
   "id": "0cf9567a",
   "metadata": {},
   "outputs": [
    {
     "name": "stdout",
     "output_type": "stream",
     "text": [
      "The amount entered is  1000\n",
      "The time entered is  2\n",
      "The rate entered is  5\n",
      "1102.5\n"
     ]
    },
    {
     "data": {
      "text/plain": [
       "102.5"
      ]
     },
     "execution_count": 39,
     "metadata": {},
     "output_type": "execute_result"
    }
   ],
   "source": [
    "ci(1000,2,5)"
   ]
  },
  {
   "cell_type": "markdown",
   "id": "25d108dd",
   "metadata": {},
   "source": [
    "7.\tPython Program to check Armstrong Number"
   ]
  },
  {
   "cell_type": "code",
   "execution_count": 4,
   "id": "0a7fa953",
   "metadata": {},
   "outputs": [],
   "source": [
    "def armstrong(n):\n",
    "    res=0\n",
    "    \n",
    "    temp=n\n",
    "    while temp>0:\n",
    "        digit= temp%10\n",
    "        res= res + (digit**3)\n",
    "        temp = temp//10\n",
    "    \n",
    "    if res == n:\n",
    "        print(\"Number is armstrong\")\n",
    "    else:\n",
    "        print(\"Number not armstrong\")\n",
    "        "
   ]
  },
  {
   "cell_type": "code",
   "execution_count": 5,
   "id": "f262fdb6",
   "metadata": {},
   "outputs": [
    {
     "name": "stdout",
     "output_type": "stream",
     "text": [
      "Number is armstrong\n"
     ]
    }
   ],
   "source": [
    "armstrong(407)"
   ]
  },
  {
   "cell_type": "markdown",
   "id": "e8e987e1",
   "metadata": {},
   "source": [
    "8.\tPython Program for Program to find area of a circle"
   ]
  },
  {
   "cell_type": "code",
   "execution_count": 61,
   "id": "144c4c4a",
   "metadata": {},
   "outputs": [],
   "source": [
    "def area_circle(r):\n",
    "    print(\"Radius of circle: \", r)\n",
    "    area =3.14 * (pow(r,2)) \n",
    "    return area"
   ]
  },
  {
   "cell_type": "code",
   "execution_count": 62,
   "id": "69a196c9",
   "metadata": {},
   "outputs": [
    {
     "name": "stdout",
     "output_type": "stream",
     "text": [
      "Radius of circle:  5\n"
     ]
    },
    {
     "data": {
      "text/plain": [
       "78.5"
      ]
     },
     "execution_count": 62,
     "metadata": {},
     "output_type": "execute_result"
    }
   ],
   "source": [
    "area_circle(5)"
   ]
  },
  {
   "cell_type": "markdown",
   "id": "ebe35f15",
   "metadata": {},
   "source": [
    "9.\tPython program to print all Prime numbers in an Interval"
   ]
  },
  {
   "cell_type": "code",
   "execution_count": 83,
   "id": "e4890169",
   "metadata": {},
   "outputs": [],
   "source": [
    "def prime(low, high):\n",
    "    prime=[]\n",
    "    for num in range(low, high+1):\n",
    "        if num>1:\n",
    "            for i in range(2, num):\n",
    "                if num%i==0:\n",
    "                    break\n",
    "            else:\n",
    "                prime.append(num)\n",
    "    return prime"
   ]
  },
  {
   "cell_type": "code",
   "execution_count": 84,
   "id": "846bfe98",
   "metadata": {},
   "outputs": [
    {
     "data": {
      "text/plain": [
       "[11,\n",
       " 13,\n",
       " 17,\n",
       " 19,\n",
       " 23,\n",
       " 29,\n",
       " 31,\n",
       " 37,\n",
       " 41,\n",
       " 43,\n",
       " 47,\n",
       " 53,\n",
       " 59,\n",
       " 61,\n",
       " 67,\n",
       " 71,\n",
       " 73,\n",
       " 79,\n",
       " 83,\n",
       " 89,\n",
       " 97,\n",
       " 101,\n",
       " 103,\n",
       " 107,\n",
       " 109,\n",
       " 113]"
      ]
     },
     "execution_count": 84,
     "metadata": {},
     "output_type": "execute_result"
    }
   ],
   "source": [
    "prime(10,120)"
   ]
  },
  {
   "cell_type": "markdown",
   "id": "ed3aaa87",
   "metadata": {},
   "source": [
    "Python program to check whether a number is Prime or not"
   ]
  },
  {
   "cell_type": "code",
   "execution_count": 1,
   "id": "5bf89e86",
   "metadata": {},
   "outputs": [],
   "source": [
    "def check_prime(n):\n",
    "    if n>1:\n",
    "        for i in range(2, int(n/2)+1):\n",
    "            if n%i==0:\n",
    "                print(\"Number is not prime\")\n",
    "                break\n",
    "            else:\n",
    "                print('Number is prime')\n",
    "            \n",
    "        \n",
    "        "
   ]
  },
  {
   "cell_type": "code",
   "execution_count": 2,
   "id": "7a9cfc52",
   "metadata": {},
   "outputs": [
    {
     "name": "stdout",
     "output_type": "stream",
     "text": [
      "Number is prime\n"
     ]
    }
   ],
   "source": [
    "check_prime(5)"
   ]
  },
  {
   "cell_type": "code",
   "execution_count": 3,
   "id": "6d9604ff",
   "metadata": {},
   "outputs": [
    {
     "name": "stdout",
     "output_type": "stream",
     "text": [
      "Number is not prime\n"
     ]
    }
   ],
   "source": [
    "check_prime(10)"
   ]
  },
  {
   "cell_type": "code",
   "execution_count": null,
   "id": "d78c56a6",
   "metadata": {},
   "outputs": [],
   "source": []
  }
 ],
 "metadata": {
  "kernelspec": {
   "display_name": "Python 3 (ipykernel)",
   "language": "python",
   "name": "python3"
  },
  "language_info": {
   "codemirror_mode": {
    "name": "ipython",
    "version": 3
   },
   "file_extension": ".py",
   "mimetype": "text/x-python",
   "name": "python",
   "nbconvert_exporter": "python",
   "pygments_lexer": "ipython3",
   "version": "3.9.7"
  }
 },
 "nbformat": 4,
 "nbformat_minor": 5
}
